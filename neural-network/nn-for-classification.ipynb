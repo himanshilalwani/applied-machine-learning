{
  "nbformat": 4,
  "nbformat_minor": 0,
  "metadata": {
    "colab": {
      "provenance": []
    },
    "kernelspec": {
      "name": "python3",
      "display_name": "Python 3"
    },
    "language_info": {
      "name": "python"
    }
  },
  "cells": [
    {
      "cell_type": "code",
      "source": [
        "# importing the libraries\n",
        "import numpy as np\n",
        "import pandas as pd\n",
        "from sklearn.datasets import load_digits\n",
        "import matplotlib.pyplot as plt\n",
        "from sklearn.preprocessing import StandardScaler\n",
        "from sklearn.model_selection import train_test_split"
      ],
      "metadata": {
        "id": "Y8jjzC6NZcnd"
      },
      "execution_count": 1,
      "outputs": []
    },
    {
      "cell_type": "markdown",
      "source": [
        "Activation functions and their derivatives"
      ],
      "metadata": {
        "id": "a0PLPk5z8oOa"
      }
    },
    {
      "cell_type": "code",
      "execution_count": 2,
      "metadata": {
        "id": "yJx_MtGvYvrj"
      },
      "outputs": [],
      "source": [
        "def sigmoid(x):\n",
        "  return 1/(1+np.exp(-x))"
      ]
    },
    {
      "cell_type": "code",
      "source": [
        "def der_sigmoid(x):\n",
        "  return sigmoid(x) * (1- sigmoid(x))"
      ],
      "metadata": {
        "id": "12h0fRraZt9o"
      },
      "execution_count": 3,
      "outputs": []
    },
    {
      "cell_type": "code",
      "source": [
        "def relu(x):\n",
        "  return np.maximum(0, x)"
      ],
      "metadata": {
        "id": "q4bd8oqhZMr6"
      },
      "execution_count": 4,
      "outputs": []
    },
    {
      "cell_type": "code",
      "source": [
        "def der_relu(x):\n",
        "  x = np.where(x < 0, 0, x)\n",
        "  x = np.where(x >= 0, 1, x)\n",
        "  return x"
      ],
      "metadata": {
        "id": "I2MG0BM6aCwU"
      },
      "execution_count": 5,
      "outputs": []
    },
    {
      "cell_type": "code",
      "source": [
        "def tan(x):\n",
        "  return np.tanh(x)"
      ],
      "metadata": {
        "id": "z9v8HUbqZP_H"
      },
      "execution_count": 6,
      "outputs": []
    },
    {
      "cell_type": "code",
      "source": [
        "def der_tan(x):\n",
        "  return 1 - np.square(np.tanh(x))"
      ],
      "metadata": {
        "id": "MRfWSnv1bHFe"
      },
      "execution_count": 7,
      "outputs": []
    },
    {
      "cell_type": "markdown",
      "source": [
        "One Hot Encoding of Target Values"
      ],
      "metadata": {
        "id": "zd9syn1U8tZr"
      }
    },
    {
      "cell_type": "code",
      "source": [
        "def one_hot(y):\n",
        "  y_arr = [0]*10\n",
        "  for i in range(10):\n",
        "    if (y == i):\n",
        "      y_arr[i] = 1\n",
        "      break\n",
        "  return y_arr "
      ],
      "metadata": {
        "id": "AY9QakPgoK8u"
      },
      "execution_count": 8,
      "outputs": []
    },
    {
      "cell_type": "markdown",
      "source": [
        "Neural Network Functions"
      ],
      "metadata": {
        "id": "yzOOlq0z812x"
      }
    },
    {
      "cell_type": "code",
      "source": [
        "# function to initialise weights and biases randomly\n",
        "def initialize_weights(structure):\n",
        "  W = {}\n",
        "  b = {}\n",
        "\n",
        "  for i in range(1, len(structure)):\n",
        "    W[\"W\"+str(i)] = np.random.randn(structure[i], structure[i-1])\n",
        "    b[\"b\"+str(i)] = np.random.randn(structure[i], 1)\n",
        "  \n",
        "  return W, b"
      ],
      "metadata": {
        "id": "H0pOhpmogMki"
      },
      "execution_count": 9,
      "outputs": []
    },
    {
      "cell_type": "code",
      "source": [
        "# function to initialise delta weights and biases with zeros having the same structure as the weights and biases\n",
        "def initialize_delta_weights(structure):\n",
        "  delta_W = {}\n",
        "  delta_b = {}\n",
        "\n",
        "  for i in range(1, len(structure)):\n",
        "    delta_W[\"W\"+str(i)] = np.zeros((structure[i], structure[i-1]))\n",
        "    delta_b[\"b\"+str(i)] = np.zeros((structure[i], 1))\n",
        "  \n",
        "  return delta_W, delta_b"
      ],
      "metadata": {
        "id": "d5TRMyeNjGBb"
      },
      "execution_count": 10,
      "outputs": []
    },
    {
      "cell_type": "code",
      "source": [
        "# feed forward\n",
        "# Z1 = W1.X + b1\n",
        "# a1 = f(Z1)\n",
        "# Z2 = W2.a1 + b2\n",
        "# a2 = f(Z2)\n",
        "def feed_forward(X, W, b, f):\n",
        "  activations = {} # a\n",
        "  weights = {} # z\n",
        "  \n",
        "  weights[\"z1\"] = W[\"W1\"]@X.T + b[\"b1\"]\n",
        "  activations[\"a1\"] = f(weights[\"z1\"])\n",
        "  for i in range(2, len(W) + 1):\n",
        "    weights[\"z\"+str(i)] = W[\"W\"+str(i)]@activations[\"a\"+str(i-1)] + b[\"b\"+str(i)]\n",
        "    activations[\"a\"+str(i)] = f(weights[\"z\"+str(i)])\n",
        "  \n",
        "  return weights, activations"
      ],
      "metadata": {
        "id": "F4ecAGl7jvfA"
      },
      "execution_count": 11,
      "outputs": []
    },
    {
      "cell_type": "code",
      "source": [
        "# back propoagation\n",
        "def back_propagation(X, W, b, Z, A, f, der_f, y, structure):\n",
        "  # retrieving the required params\n",
        "  W1 = W[\"W1\"]\n",
        "  b1 = b[\"b1\"]\n",
        "  W2 = W[\"W2\"]\n",
        "  b2 = b[\"b2\"]\n",
        "\n",
        "  A1 = A[\"a1\"]\n",
        "  Z1 = Z[\"z1\"]\n",
        "  y_hat = A[\"a2\"]\n",
        "  Z2 = Z[\"z2\"]\n",
        "\n",
        "  current_batch_size = y.shape[0]\n",
        "  # initializing back propagation gradients\n",
        "  delta_W, delta_b = initialize_delta_weights(structure)\n",
        "\n",
        "  dA2 = 2*(y_hat - y.T) # dE/dy_hat\n",
        "  dZ2 = dA2 * der_f(Z2)\n",
        "  dW2 = (1./current_batch_size) * np.matmul(dZ2, A1.T)\n",
        "  delta_W[\"W2\"] = dW2\n",
        "  db2 = (1./current_batch_size) * np.sum(dZ2, axis=1, keepdims=True) # broadcasting\n",
        "  delta_b[\"b2\"] = db2\n",
        "\n",
        "  dA1 = np.matmul(W2.T, dZ2)\n",
        "  dZ1 = dA1 * der_f(Z1)\n",
        "  dW1 = (1./current_batch_size) * np.dot(dZ1, X)\n",
        "  delta_W[\"W1\"] = dW1\n",
        "  db1 = (1./current_batch_size) * np.sum(dZ1, axis=1, keepdims=True)\n",
        "  delta_b[\"b1\"] = db1\n",
        "\n",
        "  return delta_W, delta_b\n"
      ],
      "metadata": {
        "id": "4CJxbva2nY-D"
      },
      "execution_count": 12,
      "outputs": []
    },
    {
      "cell_type": "code",
      "source": [
        "# updating the parameters\n",
        "def update_params(delta_W, delta_b, W, b, learning_rate):\n",
        "  W[\"W1\"] -= learning_rate * delta_W[\"W1\"]\n",
        "  W[\"W2\"] -= learning_rate * delta_W[\"W2\"]\n",
        "  b[\"b1\"] -= learning_rate * delta_b[\"b1\"]\n",
        "  b[\"b2\"] -= learning_rate * delta_b[\"b2\"]\n",
        "  return W, b"
      ],
      "metadata": {
        "id": "6EAlMKdyiB1h"
      },
      "execution_count": 13,
      "outputs": []
    },
    {
      "cell_type": "code",
      "source": [
        "# training the model\n",
        "# feed forward, back propagation, update parameters at each epoch\n",
        "def train(X, y, structure, learning_rate, epochs, f, der_f):\n",
        "  W, b = initialize_weights(structure)\n",
        "  for epoch in range(epochs):\n",
        "    Z, A = feed_forward(X, W, b, f)\n",
        "    delta_W, delta_b = back_propagation(X, W, b, Z, A, f, der_f, y, structure)\n",
        "    W, b = update_params(delta_W, delta_b, W, b, learning_rate)\n",
        "  return W, b"
      ],
      "metadata": {
        "id": "BblfElM3kdbO"
      },
      "execution_count": 14,
      "outputs": []
    },
    {
      "cell_type": "code",
      "source": [
        "# predicting the values for the test set based on the generated weights and biases\n",
        "def predict(X, W, b, f):\n",
        "    Z, A = feed_forward(X, W, b, f)\n",
        "    return A['a2']"
      ],
      "metadata": {
        "id": "NzIpVxZFnkW8"
      },
      "execution_count": 15,
      "outputs": []
    },
    {
      "cell_type": "code",
      "source": [
        "def accuracy(y_pred, y):\n",
        "  correct = 0\n",
        "  for i in range(len(y)):\n",
        "    if np.argmax(y_pred[i]) == np.argmax(y[i]): # comparing the argmax for the predicted arrays and target arrays\n",
        "      correct += 1\n",
        "  return correct / len(y) * 100"
      ],
      "metadata": {
        "id": "MWmtlNje6Ark"
      },
      "execution_count": 16,
      "outputs": []
    },
    {
      "cell_type": "markdown",
      "source": [
        "Initialize Dataset"
      ],
      "metadata": {
        "id": "mhMK2k33n4-Y"
      }
    },
    {
      "cell_type": "code",
      "source": [
        "digits = load_digits()\n",
        "print(digits.data.shape)"
      ],
      "metadata": {
        "colab": {
          "base_uri": "https://localhost:8080/"
        },
        "id": "Z3AA87Q2n3pO",
        "outputId": "07b2bc01-441a-4ffe-fd5f-6d75396bc2ef"
      },
      "execution_count": 17,
      "outputs": [
        {
          "output_type": "stream",
          "name": "stdout",
          "text": [
            "(1797, 64)\n"
          ]
        }
      ]
    },
    {
      "cell_type": "markdown",
      "source": [
        "Visualizing Dataset"
      ],
      "metadata": {
        "id": "Ma3bxIqeAo1S"
      }
    },
    {
      "cell_type": "code",
      "source": [
        "plt.gray()\n",
        "plt.matshow(digits.images[0])"
      ],
      "metadata": {
        "colab": {
          "base_uri": "https://localhost:8080/",
          "height": 473
        },
        "id": "Y2YqorI9oF9F",
        "outputId": "cd272e78-91f2-4fce-e6d7-af46ff0e32ff"
      },
      "execution_count": 18,
      "outputs": [
        {
          "output_type": "execute_result",
          "data": {
            "text/plain": [
              "<matplotlib.image.AxesImage at 0x7f487ee1e310>"
            ]
          },
          "metadata": {},
          "execution_count": 18
        },
        {
          "output_type": "display_data",
          "data": {
            "text/plain": [
              "<Figure size 640x480 with 0 Axes>"
            ]
          },
          "metadata": {}
        },
        {
          "output_type": "display_data",
          "data": {
            "text/plain": [
              "<Figure size 480x480 with 1 Axes>"
            ],
            "image/png": "[encoded data removed]"
          },
          "metadata": {}
        }
      ]
    },
    {
      "cell_type": "code",
      "source": [
        "X = digits.data\n",
        "y = digits.target"
      ],
      "metadata": {
        "id": "pxIfpz9FocD6"
      },
      "execution_count": 19,
      "outputs": []
    },
    {
      "cell_type": "code",
      "source": [
        "unique, counts = np.unique(y, return_counts=True)\n",
        "df = pd.DataFrame({'Value': unique, 'Count': counts})\n",
        "df"
      ],
      "metadata": {
        "colab": {
          "base_uri": "https://localhost:8080/",
          "height": 363
        },
        "id": "-TlXnkYnNO5S",
        "outputId": "502cd20a-b6da-4aa5-9afb-af1dc56dedb6"
      },
      "execution_count": 20,
      "outputs": [
        {
          "output_type": "execute_result",
          "data": {
            "text/plain": [
              "   Value  Count\n",
              "0      0    178\n",
              "1      1    182\n",
              "2      2    177\n",
              "3      3    183\n",
              "4      4    181\n",
              "5      5    182\n",
              "6      6    181\n",
              "7      7    179\n",
              "8      8    174\n",
              "9      9    180"
            ],
            "text/html": [
              "\n",
              "  <div id=\"df-813fbd25-f965-485b-879a-417a0af7cd05\">\n",
              "    <div class=\"colab-df-container\">\n",
              "      <div>\n",
              "<style scoped>\n",
              "    .dataframe tbody tr th:only-of-type {\n",
              "        vertical-align: middle;\n",
              "    }\n",
              "\n",
              "    .dataframe tbody tr th {\n",
              "        vertical-align: top;\n",
              "    }\n",
              "\n",
              "    .dataframe thead th {\n",
              "        text-align: right;\n",
              "    }\n",
              "</style>\n",
              "<table border=\"1\" class=\"dataframe\">\n",
              "  <thead>\n",
              "    <tr style=\"text-align: right;\">\n",
              "      <th></th>\n",
              "      <th>Value</th>\n",
              "      <th>Count</th>\n",
              "    </tr>\n",
              "  </thead>\n",
              "  <tbody>\n",
              "    <tr>\n",
              "      <th>0</th>\n",
              "      <td>0</td>\n",
              "      <td>178</td>\n",
              "    </tr>\n",
              "    <tr>\n",
              "      <th>1</th>\n",
              "      <td>1</td>\n",
              "      <td>182</td>\n",
              "    </tr>\n",
              "    <tr>\n",
              "      <th>2</th>\n",
              "      <td>2</td>\n",
              "      <td>177</td>\n",
              "    </tr>\n",
              "    <tr>\n",
              "      <th>3</th>\n",
              "      <td>3</td>\n",
              "      <td>183</td>\n",
              "    </tr>\n",
              "    <tr>\n",
              "      <th>4</th>\n",
              "      <td>4</td>\n",
              "      <td>181</td>\n",
              "    </tr>\n",
              "    <tr>\n",
              "      <th>5</th>\n",
              "      <td>5</td>\n",
              "      <td>182</td>\n",
              "    </tr>\n",
              "    <tr>\n",
              "      <th>6</th>\n",
              "      <td>6</td>\n",
              "      <td>181</td>\n",
              "    </tr>\n",
              "    <tr>\n",
              "      <th>7</th>\n",
              "      <td>7</td>\n",
              "      <td>179</td>\n",
              "    </tr>\n",
              "    <tr>\n",
              "      <th>8</th>\n",
              "      <td>8</td>\n",
              "      <td>174</td>\n",
              "    </tr>\n",
              "    <tr>\n",
              "      <th>9</th>\n",
              "      <td>9</td>\n",
              "      <td>180</td>\n",
              "    </tr>\n",
              "  </tbody>\n",
              "</table>\n",
              "</div>\n",
              "      <button class=\"colab-df-convert\" onclick=\"convertToInteractive('df-813fbd25-f965-485b-879a-417a0af7cd05')\"\n",
              "              title=\"Convert this dataframe to an interactive table.\"\n",
              "              style=\"display:none;\">\n",
              "        \n",
              "  <svg xmlns=\"http://www.w3.org/2000/svg\" height=\"24px\"viewBox=\"0 0 24 24\"\n",
              "       width=\"24px\">\n",
              "    <path d=\"M0 0h24v24H0V0z\" fill=\"none\"/>\n",
              "    <path d=\"M18.56 5.44l.94 2.06.94-2.06 2.06-.94-2.06-.94-.94-2.06-.94 2.06-2.06.94zm-11 1L8.5 8.5l.94-2.06 2.06-.94-2.06-.94L8.5 2.5l-.94 2.06-2.06.94zm10 10l.94 2.06.94-2.06 2.06-.94-2.06-.94-.94-2.06-.94 2.06-2.06.94z\"/><path d=\"M17.41 7.96l-1.37-1.37c-.4-.4-.92-.59-1.43-.59-.52 0-1.04.2-1.43.59L10.3 9.45l-7.72 7.72c-.78.78-.78 2.05 0 2.83L4 21.41c.39.39.9.59 1.41.59.51 0 1.02-.2 1.41-.59l7.78-7.78 2.81-2.81c.8-.78.8-2.07 0-2.86zM5.41 20L4 18.59l7.72-7.72 1.47 1.35L5.41 20z\"/>\n",
              "  </svg>\n",
              "      </button>\n",
              "      \n",
              "  <style>\n",
              "    .colab-df-container {\n",
              "      display:flex;\n",
              "      flex-wrap:wrap;\n",
              "      gap: 12px;\n",
              "    }\n",
              "\n",
              "    .colab-df-convert {\n",
              "      background-color: #E8F0FE;\n",
              "      border: none;\n",
              "      border-radius: 50%;\n",
              "      cursor: pointer;\n",
              "      display: none;\n",
              "      fill: #1967D2;\n",
              "      height: 32px;\n",
              "      padding: 0 0 0 0;\n",
              "      width: 32px;\n",
              "    }\n",
              "\n",
              "    .colab-df-convert:hover {\n",
              "      background-color: #E2EBFA;\n",
              "      box-shadow: 0px 1px 2px rgba(60, 64, 67, 0.3), 0px 1px 3px 1px rgba(60, 64, 67, 0.15);\n",
              "      fill: #174EA6;\n",
              "    }\n",
              "\n",
              "    [theme=dark] .colab-df-convert {\n",
              "      background-color: #3B4455;\n",
              "      fill: #D2E3FC;\n",
              "    }\n",
              "\n",
              "    [theme=dark] .colab-df-convert:hover {\n",
              "      background-color: #434B5C;\n",
              "      box-shadow: 0px 1px 3px 1px rgba(0, 0, 0, 0.15);\n",
              "      filter: drop-shadow(0px 1px 2px rgba(0, 0, 0, 0.3));\n",
              "      fill: #FFFFFF;\n",
              "    }\n",
              "  </style>\n",
              "\n",
              "      <script>\n",
              "        const buttonEl =\n",
              "          document.querySelector('#df-813fbd25-f965-485b-879a-417a0af7cd05 button.colab-df-convert');\n",
              "        buttonEl.style.display =\n",
              "          google.colab.kernel.accessAllowed ? 'block' : 'none';\n",
              "\n",
              "        async function convertToInteractive(key) {\n",
              "          const element = document.querySelector('#df-813fbd25-f965-485b-879a-417a0af7cd05');\n",
              "          const dataTable =\n",
              "            await google.colab.kernel.invokeFunction('convertToInteractive',\n",
              "                                                     [key], {});\n",
              "          if (!dataTable) return;\n",
              "\n",
              "          const docLinkHtml = 'Like what you see? Visit the ' +\n",
              "            '<a target=\"_blank\" href=https://colab.research.google.com/notebooks/data_table.ipynb>data table notebook</a>'\n",
              "            + ' to learn more about interactive tables.';\n",
              "          element.innerHTML = '';\n",
              "          dataTable['output_type'] = 'display_data';\n",
              "          await google.colab.output.renderOutput(dataTable, element);\n",
              "          const docLink = document.createElement('div');\n",
              "          docLink.innerHTML = docLinkHtml;\n",
              "          element.appendChild(docLink);\n",
              "        }\n",
              "      </script>\n",
              "    </div>\n",
              "  </div>\n",
              "  "
            ]
          },
          "metadata": {},
          "execution_count": 20
        }
      ]
    },
    {
      "cell_type": "markdown",
      "source": [
        "Scaling Dataset"
      ],
      "metadata": {
        "id": "t1VL0t0hArdf"
      }
    },
    {
      "cell_type": "code",
      "source": [
        "scaler = StandardScaler()\n",
        "X_scaled = scaler.fit(X).transform(X)"
      ],
      "metadata": {
        "id": "W6HUOgFGpLJd"
      },
      "execution_count": 21,
      "outputs": []
    },
    {
      "cell_type": "markdown",
      "source": [
        "Splitting Dataset"
      ],
      "metadata": {
        "id": "c3HJGtdxAtFZ"
      }
    },
    {
      "cell_type": "code",
      "source": [
        "X_train, X_test, y_train, y_test = train_test_split(X_scaled, y)"
      ],
      "metadata": {
        "id": "glFnm4wKqznT"
      },
      "execution_count": 22,
      "outputs": []
    },
    {
      "cell_type": "markdown",
      "source": [
        "Encoding the train and test y values"
      ],
      "metadata": {
        "id": "qsdfZ-RYAvC5"
      }
    },
    {
      "cell_type": "code",
      "source": [
        "y_oneHot_train = []\n",
        "for i in range(len(y_train)):\n",
        "  y_oneHot_train.append(one_hot(y_train[i]))\n",
        "y_oneHot_train = np.array(y_oneHot_train)"
      ],
      "metadata": {
        "id": "rXG9bcvjoqtQ"
      },
      "execution_count": 23,
      "outputs": []
    },
    {
      "cell_type": "code",
      "source": [
        "y_oneHot_test = []\n",
        "for i in range(len(y_test)):\n",
        "  y_oneHot_test.append(one_hot(y_test[i]))\n",
        "y_oneHot_test = np.array(y_oneHot_test)"
      ],
      "metadata": {
        "id": "kdTg_msJo-Dj"
      },
      "execution_count": 24,
      "outputs": []
    },
    {
      "cell_type": "markdown",
      "source": [
        "Activation Function 1a - Sigmoid<br>\n",
        "Learning Rate - 0.4<br>\n",
        "Epochs - 3000"
      ],
      "metadata": {
        "id": "c5bz1cg68cXq"
      }
    },
    {
      "cell_type": "code",
      "source": [
        "structure = [64, 30, 10]\n",
        "learning_rate = 0.4\n",
        "epochs = 3000"
      ],
      "metadata": {
        "id": "e8NYd2a_rQCj"
      },
      "execution_count": 25,
      "outputs": []
    },
    {
      "cell_type": "code",
      "source": [
        "W1, b1 = train(X_train, y_oneHot_train, structure, learning_rate, epochs, sigmoid, der_sigmoid)"
      ],
      "metadata": {
        "id": "OGz8jxrgoEmv"
      },
      "execution_count": 26,
      "outputs": []
    },
    {
      "cell_type": "code",
      "source": [
        "# test accuracy\n",
        "y_pred = predict(X_test, W1, b1, sigmoid)\n",
        "print(\"Test Accuracy: \", accuracy(y_pred.T, y_oneHot_test))"
      ],
      "metadata": {
        "id": "7dvpZDp0BVPa",
        "colab": {
          "base_uri": "https://localhost:8080/"
        },
        "outputId": "32a1bb39-6f67-4ea0-fcc2-ada49b8c429a"
      },
      "execution_count": 27,
      "outputs": [
        {
          "output_type": "stream",
          "name": "stdout",
          "text": [
            "Test Accuracy:  93.55555555555556\n"
          ]
        }
      ]
    },
    {
      "cell_type": "code",
      "source": [
        "# Train Accuracy\n",
        "y_pred_train = predict(X_train, W1, b1, sigmoid)\n",
        "print(\"Train Accuracy: \", accuracy(y_pred_train.T, y_oneHot_train))"
      ],
      "metadata": {
        "colab": {
          "base_uri": "https://localhost:8080/"
        },
        "id": "_Ov3fVoF_j6f",
        "outputId": "07854ac7-5051-4011-ae71-1181b4bf2e5e"
      },
      "execution_count": 28,
      "outputs": [
        {
          "output_type": "stream",
          "name": "stdout",
          "text": [
            "Train Accuracy:  98.06978470675575\n"
          ]
        }
      ]
    },
    {
      "cell_type": "markdown",
      "source": [
        "Activation Function 1b - Sigmoid<br>\n",
        "Learning Rate - 0.2<br>\n",
        "Epochs - 5000"
      ],
      "metadata": {
        "id": "YXA2Azvf89yd"
      }
    },
    {
      "cell_type": "code",
      "source": [
        "structure = [64, 30, 10]\n",
        "learning_rate = 0.2\n",
        "epochs = 5000"
      ],
      "metadata": {
        "id": "rSZQ5P_185YM"
      },
      "execution_count": 29,
      "outputs": []
    },
    {
      "cell_type": "code",
      "source": [
        "W2, b2 = train(X_train, y_oneHot_train, structure, learning_rate, epochs, sigmoid, der_sigmoid)"
      ],
      "metadata": {
        "id": "os9kByYF9BQn"
      },
      "execution_count": 30,
      "outputs": []
    },
    {
      "cell_type": "code",
      "source": [
        "# test accuracy\n",
        "y_pred2 = predict(X_test, W2, b2, sigmoid)\n",
        "print(\"Test Accuracy: \", accuracy(y_pred2.T, y_oneHot_test))"
      ],
      "metadata": {
        "colab": {
          "base_uri": "https://localhost:8080/"
        },
        "id": "8AxdOfa59IEC",
        "outputId": "e430b866-d1a4-4ced-fbd1-bcf7cca8e8b6"
      },
      "execution_count": 31,
      "outputs": [
        {
          "output_type": "stream",
          "name": "stdout",
          "text": [
            "Test Accuracy:  76.0\n"
          ]
        }
      ]
    },
    {
      "cell_type": "code",
      "source": [
        "# train accuracy\n",
        "y_pred_train2 = predict(X_train, W2, b2, sigmoid)\n",
        "print(\"Train Accuracy: \", accuracy(y_pred_train2.T, y_oneHot_train))"
      ],
      "metadata": {
        "colab": {
          "base_uri": "https://localhost:8080/"
        },
        "id": "4TG8CGTR9Lex",
        "outputId": "2c0c7167-8c55-4652-d42f-08c3bddf670d"
      },
      "execution_count": 32,
      "outputs": [
        {
          "output_type": "stream",
          "name": "stdout",
          "text": [
            "Train Accuracy:  81.44023756495918\n"
          ]
        }
      ]
    },
    {
      "cell_type": "markdown",
      "source": [
        "Activation Function 1c - Sigmoid<br>\n",
        "Learning Rate - 0.8<br>\n",
        "Epochs - 2000"
      ],
      "metadata": {
        "id": "lRtNQcpk9NIP"
      }
    },
    {
      "cell_type": "code",
      "source": [
        "structure = [64, 30, 10]\n",
        "learning_rate = 0.8\n",
        "epochs = 2000"
      ],
      "metadata": {
        "id": "11b0PR9J9TSR"
      },
      "execution_count": 33,
      "outputs": []
    },
    {
      "cell_type": "code",
      "source": [
        "W3, b3 = train(X_train, y_oneHot_train, structure, learning_rate, epochs, sigmoid, der_sigmoid)"
      ],
      "metadata": {
        "id": "FLYQYA9s9V3G"
      },
      "execution_count": 34,
      "outputs": []
    },
    {
      "cell_type": "code",
      "source": [
        "# test accuracy\n",
        "y_pred3 = predict(X_test, W3, b3, sigmoid)\n",
        "print(\"Test Accuracy: \", accuracy(y_pred3.T, y_oneHot_test))"
      ],
      "metadata": {
        "colab": {
          "base_uri": "https://localhost:8080/"
        },
        "id": "KAuotkm09XCY",
        "outputId": "e820cd62-273c-442c-c468-2e9cbf01b49c"
      },
      "execution_count": 35,
      "outputs": [
        {
          "output_type": "stream",
          "name": "stdout",
          "text": [
            "Test Accuracy:  93.11111111111111\n"
          ]
        }
      ]
    },
    {
      "cell_type": "code",
      "source": [
        "# train accuracy\n",
        "y_pred_train3 = predict(X_train, W3, b3, sigmoid)\n",
        "print(\"Train Accuracy\", accuracy(y_pred_train3.T, y_oneHot_train))"
      ],
      "metadata": {
        "colab": {
          "base_uri": "https://localhost:8080/"
        },
        "id": "4DqjWlN59ZyJ",
        "outputId": "050f6e7a-f302-423f-b774-bc89da362135"
      },
      "execution_count": 36,
      "outputs": [
        {
          "output_type": "stream",
          "name": "stdout",
          "text": [
            "Train Accuracy 97.9955456570156\n"
          ]
        }
      ]
    },
    {
      "cell_type": "markdown",
      "source": [
        "Activation Function 2a - Tanh<br>\n",
        "Learning Rate - 0.6<br>\n",
        "Epochs - 7500"
      ],
      "metadata": {
        "id": "J4XVKRkT9chr"
      }
    },
    {
      "cell_type": "code",
      "source": [
        "learning_rate2 = 0.60\n",
        "epochs2 = 7500"
      ],
      "metadata": {
        "id": "pmdfo8ISvBMA"
      },
      "execution_count": 37,
      "outputs": []
    },
    {
      "cell_type": "code",
      "source": [
        "W4, b4 = train(X_train, y_oneHot_train, structure, learning_rate2, epochs2, tan, der_tan)"
      ],
      "metadata": {
        "id": "Idp5UxqgudEA"
      },
      "execution_count": 38,
      "outputs": []
    },
    {
      "cell_type": "code",
      "source": [
        "# test accuracy\n",
        "y_pred4 = predict(X_test, W4, b4, tan)\n",
        "print(\"Test Accuracy: \", accuracy(y_pred4.T, y_oneHot_test))"
      ],
      "metadata": {
        "colab": {
          "base_uri": "https://localhost:8080/"
        },
        "id": "otW2aZ2guye2",
        "outputId": "a24829bb-d27f-44af-e823-417fb683922e"
      },
      "execution_count": 39,
      "outputs": [
        {
          "output_type": "stream",
          "name": "stdout",
          "text": [
            "Test Accuracy:  91.11111111111111\n"
          ]
        }
      ]
    },
    {
      "cell_type": "code",
      "source": [
        "# train accuracy\n",
        "y_pred_train4 = predict(X_train, W4, b4, tan)\n",
        "print(\"Train Accuracy: \", accuracy(y_pred_train4.T, y_oneHot_train))"
      ],
      "metadata": {
        "colab": {
          "base_uri": "https://localhost:8080/"
        },
        "id": "zk3XtB44u5LO",
        "outputId": "c97add78-8480-4b0a-feb2-23755902099f"
      },
      "execution_count": 40,
      "outputs": [
        {
          "output_type": "stream",
          "name": "stdout",
          "text": [
            "Train Accuracy:  97.92130660727543\n"
          ]
        }
      ]
    },
    {
      "cell_type": "markdown",
      "source": [
        "Activation Function 2b - Tanh<br>\n",
        "Learning Rate - 0.999<br>\n",
        "Epochs - 5000"
      ],
      "metadata": {
        "id": "uylWPtQE9my_"
      }
    },
    {
      "cell_type": "code",
      "source": [
        "learning_rate2 = 0.999\n",
        "epochs2 = 5000"
      ],
      "metadata": {
        "id": "TIcozXLR9pue"
      },
      "execution_count": 41,
      "outputs": []
    },
    {
      "cell_type": "code",
      "source": [
        "W5, b5 = train(X_train, y_oneHot_train, structure, learning_rate2, epochs2, tan, der_tan)"
      ],
      "metadata": {
        "id": "7CcSHKzf9vk9"
      },
      "execution_count": 42,
      "outputs": []
    },
    {
      "cell_type": "code",
      "source": [
        "# test accuracy\n",
        "y_pred5 = predict(X_test, W5, b5, tan)\n",
        "print(\"Test Accuracy: \", accuracy(y_pred5.T, y_oneHot_test))"
      ],
      "metadata": {
        "colab": {
          "base_uri": "https://localhost:8080/"
        },
        "id": "a1anMZzA9xF3",
        "outputId": "8b35badc-0f28-4191-ab22-23b9bc2f27e1"
      },
      "execution_count": 43,
      "outputs": [
        {
          "output_type": "stream",
          "name": "stdout",
          "text": [
            "Test Accuracy:  87.1111111111111\n"
          ]
        }
      ]
    },
    {
      "cell_type": "code",
      "source": [
        "# train accuracy\n",
        "y_pred_train5 = predict(X_train, W5, b5, tan)\n",
        "print(\"Train Accuracy: \", accuracy(y_pred_train5.T, y_oneHot_train))"
      ],
      "metadata": {
        "colab": {
          "base_uri": "https://localhost:8080/"
        },
        "id": "2Ngo5fIN90CH",
        "outputId": "eadaa1b3-c28c-4283-96d0-5af2c7be9fe9"
      },
      "execution_count": 44,
      "outputs": [
        {
          "output_type": "stream",
          "name": "stdout",
          "text": [
            "Train Accuracy:  95.69413511507052\n"
          ]
        }
      ]
    },
    {
      "cell_type": "markdown",
      "source": [
        "Activation Function 2c - Tanh<br>\n",
        "Learning Rate - 0.8<br>\n",
        "Epochs - 8000"
      ],
      "metadata": {
        "id": "AxDLL5F191ht"
      }
    },
    {
      "cell_type": "code",
      "source": [
        "learning_rate2 = 0.8\n",
        "epochs2 = 8000"
      ],
      "metadata": {
        "id": "I9-C3IMp962l"
      },
      "execution_count": 45,
      "outputs": []
    },
    {
      "cell_type": "code",
      "source": [
        "W6, b6 = train(X_train, y_oneHot_train, structure, learning_rate2, epochs2, tan, der_tan)"
      ],
      "metadata": {
        "id": "7j5AkWEV987I"
      },
      "execution_count": 46,
      "outputs": []
    },
    {
      "cell_type": "code",
      "source": [
        "# test accuracy\n",
        "y_pred6 = predict(X_test, W6, b6, tan)\n",
        "print(\"Test Accuracy: \", accuracy(y_pred6.T, y_oneHot_test))"
      ],
      "metadata": {
        "colab": {
          "base_uri": "https://localhost:8080/"
        },
        "id": "38D0R7qV9_Pl",
        "outputId": "9f3848f3-2368-410a-b105-c69a0b0d69b8"
      },
      "execution_count": 47,
      "outputs": [
        {
          "output_type": "stream",
          "name": "stdout",
          "text": [
            "Test Accuracy:  88.22222222222223\n"
          ]
        }
      ]
    },
    {
      "cell_type": "code",
      "source": [
        "# train accuracy\n",
        "y_pred_train6 = predict(X_train, W6, b6, tan)\n",
        "print(\"Train Accuracy: \", accuracy(y_pred_train6.T, y_oneHot_train))"
      ],
      "metadata": {
        "colab": {
          "base_uri": "https://localhost:8080/"
        },
        "id": "xJpj0xAG-A5D",
        "outputId": "3d30ab30-599d-4803-ebdb-fd039225beda"
      },
      "execution_count": 48,
      "outputs": [
        {
          "output_type": "stream",
          "name": "stdout",
          "text": [
            "Train Accuracy:  98.06978470675575\n"
          ]
        }
      ]
    },
    {
      "cell_type": "markdown",
      "source": [
        "Activation Function 3a - Relu<br>\n",
        "Learning Rate - 0.01<br>\n",
        "Epochs - 10000"
      ],
      "metadata": {
        "id": "ATaINTZK-Ebn"
      }
    },
    {
      "cell_type": "code",
      "source": [
        "learning_rate3 = 0.01\n",
        "epochs3 = 10000"
      ],
      "metadata": {
        "id": "GdM112Cf-cbk"
      },
      "execution_count": 49,
      "outputs": []
    },
    {
      "cell_type": "code",
      "source": [
        "W7, b7 = train(X_train, y_oneHot_train, structure, learning_rate3, epochs3, relu, der_relu)"
      ],
      "metadata": {
        "id": "jAYVarme-mRB"
      },
      "execution_count": 50,
      "outputs": []
    },
    {
      "cell_type": "code",
      "source": [
        "# test accuracy\n",
        "y_pred7 = predict(X_test, W7, b7, relu)\n",
        "print(\"Test Accuracy: \", accuracy(y_pred7.T, y_oneHot_test))"
      ],
      "metadata": {
        "colab": {
          "base_uri": "https://localhost:8080/"
        },
        "id": "cEm2fNeK-wRq",
        "outputId": "4d4f12ff-dfd2-49cf-ccf4-e0428a425bc2"
      },
      "execution_count": 51,
      "outputs": [
        {
          "output_type": "stream",
          "name": "stdout",
          "text": [
            "Test Accuracy:  89.55555555555556\n"
          ]
        }
      ]
    },
    {
      "cell_type": "code",
      "source": [
        "# train accuracy\n",
        "y_pred_train7 = predict(X_train, W7, b7, relu)\n",
        "print(\"Train Accuracy: \", accuracy(y_pred_train7.T, y_oneHot_train))"
      ],
      "metadata": {
        "colab": {
          "base_uri": "https://localhost:8080/"
        },
        "id": "YVVI6Jfg_A7h",
        "outputId": "6f5c4f3d-5f16-4bc3-b36a-c1a033011434"
      },
      "execution_count": 52,
      "outputs": [
        {
          "output_type": "stream",
          "name": "stdout",
          "text": [
            "Train Accuracy:  92.72457312546399\n"
          ]
        }
      ]
    },
    {
      "cell_type": "markdown",
      "source": [
        "Activation Function 3b - Relu<br>\n",
        "Learning Rate - 0.001<br>\n",
        "Epochs - 20000"
      ],
      "metadata": {
        "id": "zmrYfWzQ-QhU"
      }
    },
    {
      "cell_type": "code",
      "source": [
        "learning_rate3 = 0.001\n",
        "epochs3 = 20000"
      ],
      "metadata": {
        "id": "FYwynAF1-gh0"
      },
      "execution_count": 53,
      "outputs": []
    },
    {
      "cell_type": "code",
      "source": [
        "W8, b8 = train(X_train, y_oneHot_train, structure, learning_rate3, epochs3, relu, der_relu)"
      ],
      "metadata": {
        "id": "h9KWH-cr-tJ5"
      },
      "execution_count": 54,
      "outputs": []
    },
    {
      "cell_type": "code",
      "source": [
        "# test accuracy\n",
        "y_pred8 = predict(X_test, W8, b8, relu)\n",
        "print(\"Test Accuracy: \", accuracy(y_pred8.T, y_oneHot_test))"
      ],
      "metadata": {
        "colab": {
          "base_uri": "https://localhost:8080/"
        },
        "id": "WsU7pPIC-z45",
        "outputId": "6818f623-f00e-4044-94ad-bafb506f12e0"
      },
      "execution_count": 55,
      "outputs": [
        {
          "output_type": "stream",
          "name": "stdout",
          "text": [
            "Test Accuracy:  75.1111111111111\n"
          ]
        }
      ]
    },
    {
      "cell_type": "code",
      "source": [
        "# train accuracy\n",
        "y_pred_train8 = predict(X_train, W8, b8, relu)\n",
        "print(\"Train Accuracy: \", accuracy(y_pred_train8.T, y_oneHot_train))"
      ],
      "metadata": {
        "colab": {
          "base_uri": "https://localhost:8080/"
        },
        "id": "FN827O7S_Htq",
        "outputId": "93790551-c565-47f3-d99d-c3d64a18538c"
      },
      "execution_count": 56,
      "outputs": [
        {
          "output_type": "stream",
          "name": "stdout",
          "text": [
            "Train Accuracy:  87.75055679287304\n"
          ]
        }
      ]
    },
    {
      "cell_type": "markdown",
      "source": [
        "Activation Function 3c - Relu<br>\n",
        "Learning Rate - 0.002<br>\n",
        "Epochs - 17000"
      ],
      "metadata": {
        "id": "Ay449IzH-YzS"
      }
    },
    {
      "cell_type": "code",
      "source": [
        "learning_rate3 = 0.002\n",
        "epochs3 = 17000"
      ],
      "metadata": {
        "id": "43vcYuOY-Xye"
      },
      "execution_count": 57,
      "outputs": []
    },
    {
      "cell_type": "code",
      "source": [
        "W9, b9 = train(X_train, y_oneHot_train, structure, learning_rate3, epochs3, relu, der_relu)"
      ],
      "metadata": {
        "id": "_NpUKAhV-uB4"
      },
      "execution_count": 58,
      "outputs": []
    },
    {
      "cell_type": "code",
      "source": [
        "# test accuracy\n",
        "y_pred9 = predict(X_test, W9, b9, relu)\n",
        "print(\"Test Accuracy: \", accuracy(y_pred9.T, y_oneHot_test))"
      ],
      "metadata": {
        "colab": {
          "base_uri": "https://localhost:8080/"
        },
        "id": "g_451I0G-0sv",
        "outputId": "b72fc97d-61fa-4b5b-a1e8-342de4ad31a0"
      },
      "execution_count": 59,
      "outputs": [
        {
          "output_type": "stream",
          "name": "stdout",
          "text": [
            "Test Accuracy:  83.77777777777777\n"
          ]
        }
      ]
    },
    {
      "cell_type": "code",
      "source": [
        "# train accuracy\n",
        "y_pred_train9 = predict(X_train, W9, b9, relu)\n",
        "print(\"Train Accuracy: \", accuracy(y_pred_train9.T, y_oneHot_train))"
      ],
      "metadata": {
        "colab": {
          "base_uri": "https://localhost:8080/"
        },
        "id": "u8KipDX0_JF6",
        "outputId": "02dd7527-c4f0-438c-8c3d-1d7bf8b4443e"
      },
      "execution_count": 60,
      "outputs": [
        {
          "output_type": "stream",
          "name": "stdout",
          "text": [
            "Train Accuracy:  92.87305122494432\n"
          ]
        }
      ]
    },
    {
      "cell_type": "markdown",
      "source": [
        "**Sigmoid Function** <br>\n",
        "Learning Rate: 0.4 <br>\n",
        "Epochs: 3000<br>\n",
        "Training Accuracy: 98.06978470675575<br>\n",
        "Test Accuracy: 93.55555555555556<br>\n",
        "\n",
        "Learning Rate: 0.2 <br>\n",
        "Epochs: 5000<br>\n",
        "Training Accuracy: 81.44023756495918<br>\n",
        "Test Accuracy: 76.0<br>\n",
        "\n",
        "Learning Rate: 0.8 <br>\n",
        "Epochs: 2000<br>\n",
        "Training Accuracy: 97.9955456570156<br>\n",
        "Test Accuracy: 93.11111111111111<br>\n"
      ],
      "metadata": {
        "id": "RESt9rSbA7lQ"
      }
    },
    {
      "cell_type": "markdown",
      "source": [
        "**Tanh Function** <br>\n",
        "Learning Rate: 0.6 <br>\n",
        "Epochs: 7500<br>\n",
        "Training Accuracy: 97.92130660727543<br>\n",
        "Test Accuracy: 91.11111111111111<br>\n",
        "\n",
        "Learning Rate: 0.999 <br>\n",
        "Epochs: 5000<br>\n",
        "Training Accuracy: 95.69413511507052<br>\n",
        "Test Accuracy: 87.1111111111111<br>\n",
        "\n",
        "Learning Rate: 0.8 <br>\n",
        "Epochs: 8000<br>\n",
        "Training Accuracy: 98.06978470675575<br>\n",
        "Test Accuracy: 88.22222222222223<br>"
      ],
      "metadata": {
        "id": "wDa1WBIYBa7g"
      }
    },
    {
      "cell_type": "markdown",
      "source": [
        "**Relu Function** <br>\n",
        "Learning Rate: 0.01 <br>\n",
        "Epochs: 10000<br>\n",
        "Training Accuracy: 92.72457312546399<br>\n",
        "Test Accuracy: 89.55555555555556<br>\n",
        "\n",
        "Learning Rate: 0.001 <br>\n",
        "Epochs: 20000<br>\n",
        "Training Accuracy: 87.75055679287304<br>\n",
        "Test Accuracy: 75.1111111111111<br>\n",
        "\n",
        "Learning Rate: 0.002 <br>\n",
        "Epochs: 17000<br>\n",
        "Training Accuracy: 92.87305122494432<br>\n",
        "Test Accuracy: 83.77777777777777<br>"
      ],
      "metadata": {
        "id": "FFjNGBogBlI8"
      }
    }
  ]
}