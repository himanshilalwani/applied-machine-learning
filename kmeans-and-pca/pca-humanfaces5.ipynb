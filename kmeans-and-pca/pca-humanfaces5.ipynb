{
  "nbformat": 4,
  "nbformat_minor": 0,
  "metadata": {
    "colab": {
      "provenance": []
    },
    "kernelspec": {
      "name": "python3",
      "display_name": "Python 3"
    },
    "language_info": {
      "name": "python"
    }
  },
  "cells": [
    {
      "cell_type": "code",
      "source": [
        "import matplotlib.pyplot as plt\n",
        "import numpy as np"
      ],
      "metadata": {
        "id": "NiSU9RvYZP77"
      },
      "execution_count": null,
      "outputs": []
    },
    {
      "cell_type": "markdown",
      "source": [
        "Load dataset and display the fourth face in the dataset"
      ],
      "metadata": {
        "id": "dSSZcQaMX_um"
      }
    },
    {
      "cell_type": "code",
      "execution_count": null,
      "metadata": {
        "id": "qtbUZP5UUbpJ"
      },
      "outputs": [],
      "source": [
        "from sklearn.datasets import fetch_lfw_people\n",
        "lfw_people = fetch_lfw_people(min_faces_per_person=70)"
      ]
    },
    {
      "cell_type": "code",
      "source": [
        "X = lfw_people.data\n",
        "y = lfw_people.target"
      ],
      "metadata": {
        "id": "In1OPnv3U8Z1"
      },
      "execution_count": null,
      "outputs": []
    },
    {
      "cell_type": "code",
      "source": [
        "# displaying the image at index 3\n",
        "fig = plt.figure(figsize=(8, 6))\n",
        "ax = fig.add_subplot(3, 5, 1, xticks=[], yticks=[])\n",
        "ax.imshow(lfw_people.images[3], cmap=plt.cm.bone)"
      ],
      "metadata": {
        "colab": {
          "base_uri": "https://localhost:8080/",
          "height": 145
        },
        "id": "MUybR_izZ8d5",
        "outputId": "25c5eb3d-264e-46fc-984b-f1b5fd8bbcf9"
      },
      "execution_count": null,
      "outputs": [
        {
          "output_type": "execute_result",
          "data": {
            "text/plain": [
              "<matplotlib.image.AxesImage at 0x7fe87c2cb3a0>"
            ]
          },
          "metadata": {},
          "execution_count": 4
        },
        {
          "output_type": "display_data",
          "data": {
            "text/plain": [
              "<Figure size 576x432 with 1 Axes>"
            ],
            "image/png": "[encoded data removed]"
          },
          "metadata": {}
        }
      ]
    },
    {
      "cell_type": "markdown",
      "source": [
        "Compute the mean of all the examples in the dataset. Display the mean image calculated in step 2."
      ],
      "metadata": {
        "id": "Dtjo5nojYCIj"
      }
    },
    {
      "cell_type": "code",
      "source": [
        "X_m = np.mean(X, axis = 0) # mean\n",
        "plt.imshow(X_m.reshape(62, 47), cmap = plt.cm.gray), plt.title('Mean Image') # displaying the mean image"
      ],
      "metadata": {
        "colab": {
          "base_uri": "https://localhost:8080/",
          "height": 299
        },
        "id": "XUcfgrWBqrcn",
        "outputId": "d91f6c81-1256-499d-8815-13a9f50a1df1"
      },
      "execution_count": null,
      "outputs": [
        {
          "output_type": "execute_result",
          "data": {
            "text/plain": [
              "(<matplotlib.image.AxesImage at 0x7fe87c1d0430>, Text(0.5, 1.0, 'Mean Image'))"
            ]
          },
          "metadata": {},
          "execution_count": 5
        },
        {
          "output_type": "display_data",
          "data": {
            "text/plain": [
              "<Figure size 432x288 with 1 Axes>"
            ],
            "image/png": "[encoded data removed]"
          },
          "metadata": {
            "needs_background": "light"
          }
        }
      ]
    },
    {
      "cell_type": "markdown",
      "source": [
        "Do dimensionality reduction with either of the pca algorithms you implemented"
      ],
      "metadata": {
        "id": "KThnqAn8Z3j8"
      }
    },
    {
      "cell_type": "code",
      "source": [
        "X_meaned = X - np.mean(X , axis = 0) # centering the data"
      ],
      "metadata": {
        "id": "1x5y9riGXRKJ"
      },
      "execution_count": null,
      "outputs": []
    },
    {
      "cell_type": "code",
      "source": [
        "u, s, v = np.linalg.svd(X_meaned)  # performing pca using svd"
      ],
      "metadata": {
        "id": "I7alUvuBb63b"
      },
      "execution_count": null,
      "outputs": []
    },
    {
      "cell_type": "markdown",
      "source": [
        "Compute the 5 top principal components and print them"
      ],
      "metadata": {
        "id": "wjgCbHFyZ8fz"
      }
    },
    {
      "cell_type": "code",
      "source": [
        "for i in range(5):\n",
        "  print(v.T[:, i])"
      ],
      "metadata": {
        "colab": {
          "base_uri": "https://localhost:8080/"
        },
        "id": "qlP0uiKyg7fb",
        "outputId": "a0d9d9d4-e4c6-4ac7-d947-ea5c37ed5bf0"
      },
      "execution_count": null,
      "outputs": [
        {
          "output_type": "stream",
          "name": "stdout",
          "text": [
            "[-0.00750877 -0.00812394 -0.00893856 ... -0.01415705 -0.01228611\n",
            " -0.01032105]\n",
            "[-0.01736775 -0.01625778 -0.01584153 ...  0.03365867  0.03306131\n",
            "  0.03161871]\n",
            "[0.02008713 0.01817848 0.01725674 ... 0.03870662 0.03452758 0.03226309]\n",
            "[0.03030667 0.03257753 0.03441757 ... 0.0316022  0.02888925 0.02280479]\n",
            "[ 0.00905503  0.00954557  0.01001607 ... -0.09149976 -0.0837678\n",
            " -0.0732807 ]\n"
          ]
        }
      ]
    },
    {
      "cell_type": "markdown",
      "source": [
        "What are the values of the associated 5 attributes of the fourth image in the dataset?"
      ],
      "metadata": {
        "id": "trdOkaSBaIFr"
      }
    },
    {
      "cell_type": "code",
      "source": [
        "num_components = 5\n",
        "X_transformed = X_meaned @ v[:num_components,:].T"
      ],
      "metadata": {
        "id": "yHZnruibXZdm"
      },
      "execution_count": null,
      "outputs": []
    },
    {
      "cell_type": "code",
      "source": [
        "print(X_transformed[3])"
      ],
      "metadata": {
        "colab": {
          "base_uri": "https://localhost:8080/"
        },
        "id": "6tqsJsF4eFDu",
        "outputId": "08284707-4d52-4cdb-ab63-4b2b1bef53a7"
      },
      "execution_count": null,
      "outputs": [
        {
          "output_type": "stream",
          "name": "stdout",
          "text": [
            "[ 0.9314171   1.0077626  -1.5906527   0.27616894  0.19711503]\n"
          ]
        }
      ]
    },
    {
      "cell_type": "markdown",
      "source": [
        "Project the fourth face in the dataset onto the first 5 principal components."
      ],
      "metadata": {
        "id": "ekNMSbXJaVK6"
      }
    },
    {
      "cell_type": "code",
      "source": [
        "# projecting and printing the fourth image\n",
        "_, h, w = lfw_people.images.shape\n",
        "reconst0 = X_transformed[3] @ v[: num_components, :]\n",
        "plt.imshow(reconst0.reshape(h, w), cmap = plt.cm.gray), plt.title('Image in new face space')"
      ],
      "metadata": {
        "colab": {
          "base_uri": "https://localhost:8080/",
          "height": 317
        },
        "id": "lRuFRBRomQmq",
        "outputId": "b6e92beb-1cd8-4782-83db-c205acf88626"
      },
      "execution_count": null,
      "outputs": [
        {
          "output_type": "execute_result",
          "data": {
            "text/plain": [
              "(<matplotlib.image.AxesImage at 0x7fe8a6d80be0>,\n",
              " Text(0.5, 1.0, 'Image in new face space'))"
            ]
          },
          "metadata": {},
          "execution_count": 12
        },
        {
          "output_type": "display_data",
          "data": {
            "text/plain": [
              "<Figure size 432x288 with 1 Axes>"
            ],
            "image/png": "[encoded data removed]"
          },
          "metadata": {
            "needs_background": "light"
          }
        }
      ]
    },
    {
      "cell_type": "markdown",
      "source": [
        "Project the fourth face with first 5 principal components back into the original image\n",
        "space, and then display it."
      ],
      "metadata": {
        "id": "-6raf1W_ahVi"
      }
    },
    {
      "cell_type": "code",
      "source": [
        "# Getting the original image space\n",
        "W5 = v.T[:, :5]\n",
        "X_prime = np.dot(X_transformed,W5.T)  + np.mean(X, axis=0)"
      ],
      "metadata": {
        "id": "1QkTdlWMiIfe"
      },
      "execution_count": null,
      "outputs": []
    },
    {
      "cell_type": "code",
      "source": [
        "print(X_prime.shape)"
      ],
      "metadata": {
        "colab": {
          "base_uri": "https://localhost:8080/"
        },
        "id": "jlXIILDLl3Di",
        "outputId": "feed85ae-3733-497c-d93c-5d55aa2270a6"
      },
      "execution_count": null,
      "outputs": [
        {
          "output_type": "stream",
          "name": "stdout",
          "text": [
            "(1288, 2914)\n"
          ]
        }
      ]
    },
    {
      "cell_type": "code",
      "source": [
        "plt.imshow(X_prime[3].reshape(h, w), cmap = plt.cm.gray)"
      ],
      "metadata": {
        "colab": {
          "base_uri": "https://localhost:8080/",
          "height": 286
        },
        "id": "Onbguwu-nBxx",
        "outputId": "1a7763cf-1f78-4529-b1fa-c18d05392dfe"
      },
      "execution_count": null,
      "outputs": [
        {
          "output_type": "execute_result",
          "data": {
            "text/plain": [
              "<matplotlib.image.AxesImage at 0x7fe87c399e80>"
            ]
          },
          "metadata": {},
          "execution_count": 17
        },
        {
          "output_type": "display_data",
          "data": {
            "text/plain": [
              "<Figure size 432x288 with 1 Axes>"
            ],
            "image/png": "[encoded data removed]"
          },
          "metadata": {
            "needs_background": "light"
          }
        }
      ]
    }
  ]
}