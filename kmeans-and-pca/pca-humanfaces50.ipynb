{
  "nbformat": 4,
  "nbformat_minor": 0,
  "metadata": {
    "colab": {
      "provenance": []
    },
    "kernelspec": {
      "name": "python3",
      "display_name": "Python 3"
    },
    "language_info": {
      "name": "python"
    }
  },
  "cells": [
    {
      "cell_type": "code",
      "source": [
        "import matplotlib.pyplot as plt\n",
        "import numpy as np"
      ],
      "metadata": {
        "id": "NiSU9RvYZP77"
      },
      "execution_count": null,
      "outputs": []
    },
    {
      "cell_type": "code",
      "execution_count": null,
      "metadata": {
        "id": "qtbUZP5UUbpJ"
      },
      "outputs": [],
      "source": [
        "from sklearn.datasets import fetch_lfw_people\n",
        "lfw_people = fetch_lfw_people(min_faces_per_person=70)"
      ]
    },
    {
      "cell_type": "code",
      "source": [
        "X = lfw_people.data\n",
        "y = lfw_people.target"
      ],
      "metadata": {
        "id": "In1OPnv3U8Z1"
      },
      "execution_count": null,
      "outputs": []
    },
    {
      "cell_type": "code",
      "source": [
        "# displaying the fourth image\n",
        "fig = plt.figure(figsize=(8, 6))\n",
        "ax = fig.add_subplot(3, 5, 1, xticks=[], yticks=[])\n",
        "ax.imshow(lfw_people.images[3], cmap=plt.cm.bone)"
      ],
      "metadata": {
        "colab": {
          "base_uri": "https://localhost:8080/",
          "height": 145
        },
        "id": "MUybR_izZ8d5",
        "outputId": "5d398576-625b-4342-bb71-38368fd0d2f5"
      },
      "execution_count": null,
      "outputs": [
        {
          "output_type": "execute_result",
          "data": {
            "text/plain": [
              "<matplotlib.image.AxesImage at 0x7fba7b0cd370>"
            ]
          },
          "metadata": {},
          "execution_count": 4
        },
        {
          "output_type": "display_data",
          "data": {
            "text/plain": [
              "<Figure size 576x432 with 1 Axes>"
            ],
            "image/png": "[encoded data removed]"
          },
          "metadata": {}
        }
      ]
    },
    {
      "cell_type": "code",
      "source": [
        "X_meaned = X - np.mean(X , axis = 0) # centering the data"
      ],
      "metadata": {
        "id": "1x5y9riGXRKJ"
      },
      "execution_count": null,
      "outputs": []
    },
    {
      "cell_type": "code",
      "source": [
        "u, s, v = np.linalg.svd(X_meaned) # performing pca using svd"
      ],
      "metadata": {
        "id": "I7alUvuBb63b"
      },
      "execution_count": null,
      "outputs": []
    },
    {
      "cell_type": "markdown",
      "source": [
        "Compute the 50 top principal components and print them"
      ],
      "metadata": {
        "id": "58t2vwzja7yP"
      }
    },
    {
      "cell_type": "code",
      "source": [
        "for i in range(50):\n",
        "  print(v.T[:, i])"
      ],
      "metadata": {
        "colab": {
          "base_uri": "https://localhost:8080/"
        },
        "id": "qlP0uiKyg7fb",
        "outputId": "c96c2658-c69c-493b-91f0-536e2b57b60e"
      },
      "execution_count": null,
      "outputs": [
        {
          "output_type": "stream",
          "name": "stdout",
          "text": [
            "[-0.00750877 -0.00812394 -0.00893856 ... -0.01415705 -0.01228611\n",
            " -0.01032105]\n",
            "[-0.01736775 -0.01625778 -0.01584153 ...  0.03365867  0.03306131\n",
            "  0.03161871]\n",
            "[0.02008713 0.01817848 0.01725674 ... 0.03870662 0.03452758 0.03226309]\n",
            "[0.03030667 0.03257753 0.03441757 ... 0.0316022  0.02888925 0.02280479]\n",
            "[ 0.00905503  0.00954557  0.01001607 ... -0.09149976 -0.0837678\n",
            " -0.0732807 ]\n",
            "[ 0.00439566  0.00896313  0.01440755 ...  0.01826183  0.00515619\n",
            " -0.00592113]\n",
            "[ 0.02233808  0.02455116  0.02775332 ... -0.09193995 -0.10634656\n",
            " -0.10820933]\n",
            "[ 0.02019962  0.02099339  0.01817838 ... -0.02523355  0.00015038\n",
            "  0.0186326 ]\n",
            "[-0.0365059  -0.03614231 -0.03470054 ... -0.01690972 -0.0178256\n",
            " -0.01637944]\n",
            "[0.00113123 0.00148436 0.00233183 ... 0.01980455 0.02064092 0.02021225]\n",
            "[0.02752035 0.02982087 0.02943227 ... 0.08497517 0.07750663 0.06200352]\n",
            "[ 0.06874837  0.0709137   0.07061385 ... -0.0146252  -0.02159968\n",
            " -0.02630339]\n",
            "[0.03439236 0.03717149 0.03916177 ... 0.0689916  0.07517613 0.0711688 ]\n",
            "[-0.02611631 -0.02403435 -0.02198232 ...  0.02426824  0.03323845\n",
            "  0.02973455]\n",
            "[ 0.02060598  0.02053124  0.01611827 ... -0.00953323 -0.0180496\n",
            " -0.01436428]\n",
            "[ 0.00714601  0.01458332  0.02326855 ... -0.01999362  0.00361518\n",
            "  0.01695548]\n",
            "[0.04438379 0.04445957 0.04266001 ... 0.00491696 0.01598922 0.01682997]\n",
            "[0.00835396 0.01039315 0.00934696 ... 0.00343706 0.01168835 0.01808646]\n",
            "[-0.02848914 -0.0225538  -0.01656487 ... -0.00818497 -0.02272961\n",
            " -0.02785619]\n",
            "[ 0.00165978 -0.00019747 -0.00093704 ... -0.02410547 -0.02927025\n",
            " -0.01967785]\n",
            "[-0.03665754 -0.03318183 -0.03112271 ...  0.03751837  0.03194437\n",
            "  0.02109285]\n",
            "[-0.00180745 -0.00624019 -0.0129764  ...  0.04937529  0.05963901\n",
            "  0.06688291]\n",
            "[ 0.00698174  0.0047227  -0.0039365  ... -0.00559407 -0.02612804\n",
            " -0.04217829]\n",
            "[ 0.02575849  0.03173963  0.03784091 ...  0.01932037  0.00591007\n",
            " -0.00312027]\n",
            "[-0.04618385 -0.05221206 -0.04884855 ...  0.03908754  0.0628239\n",
            "  0.06233779]\n",
            "[-0.00626808 -0.0103751  -0.01381907 ... -0.02613277 -0.0186079\n",
            " -0.01954599]\n",
            "[0.01702031 0.02695374 0.03113581 ... 0.01736446 0.03786742 0.04952454]\n",
            "[-0.01600423 -0.02228132 -0.0270883  ... -0.06976779 -0.09553286\n",
            " -0.10861036]\n",
            "[-0.01210575 -0.01960371 -0.01955913 ...  0.03574543 -0.01320337\n",
            " -0.04491752]\n",
            "[-0.03494552 -0.03251967 -0.02811133 ...  0.00072202 -0.01961034\n",
            " -0.0290995 ]\n",
            "[-0.00610541 -0.0048583   0.00011803 ...  0.00518342  0.01643145\n",
            "  0.01473015]\n",
            "[ 0.01201352  0.01284085  0.01135477 ... -0.06300232 -0.07940104\n",
            " -0.07455245]\n",
            "[-0.03277652 -0.03211387 -0.02740436 ... -0.00178648  0.00955493\n",
            "  0.01847726]\n",
            "[ 0.01453942  0.01135901  0.00798649 ...  0.02722222 -0.02158366\n",
            " -0.04962682]\n",
            "[-0.02415562 -0.02102784 -0.00313202 ... -0.00852712 -0.04875984\n",
            " -0.0814752 ]\n",
            "[-0.00718237 -0.006141   -0.00088549 ...  0.01477517  0.01179869\n",
            "  0.0001191 ]\n",
            "[-0.03710948 -0.03067738 -0.01904242 ...  0.00812391 -0.0332456\n",
            " -0.05130617]\n",
            "[ 0.00531834 -0.00086064 -0.00393607 ... -0.00306383 -0.04845986\n",
            " -0.07372732]\n",
            "[-0.02562171 -0.02059053 -0.01248761 ... -0.00347813  0.0111072\n",
            "  0.03048198]\n",
            "[ 4.7348731e-05  5.0013070e-03  1.0039668e-02 ... -1.9540500e-02\n",
            "  1.4591025e-03  2.7402518e-02]\n",
            "[-0.00932623 -0.00927712 -0.01410956 ... -0.01192511  0.01621318\n",
            "  0.03284198]\n",
            "[ 0.02134652  0.01651352  0.01673352 ... -0.03195718 -0.01371614\n",
            " -0.00212267]\n",
            "[-0.02706128 -0.01782735  0.00334308 ...  0.06819727  0.05610176\n",
            "  0.03219461]\n",
            "[ 0.02540169  0.01952291  0.01618735 ... -0.0114853  -0.01844305\n",
            " -0.02197362]\n",
            "[-0.03569312 -0.03641565 -0.02693818 ... -0.02671978  0.01590869\n",
            "  0.03934089]\n",
            "[ 0.01614914  0.00933018 -0.00171551 ...  0.00029827 -0.0053635\n",
            " -0.00308563]\n",
            "[0.02734993 0.02862481 0.01570541 ... 0.02952071 0.02891517 0.03808172]\n",
            "[-0.01267343 -0.01610449 -0.02520165 ...  0.01685117  0.00956018\n",
            " -0.00343562]\n",
            "[-0.02338065 -0.0251714  -0.02234524 ...  0.00496824  0.00705274\n",
            "  0.01574718]\n",
            "[-0.00514726 -0.00462033 -0.00251729 ...  0.01159268  0.01280695\n",
            "  0.01680175]\n"
          ]
        }
      ]
    },
    {
      "cell_type": "markdown",
      "source": [
        "What are the values of the associated 50 attributes of the fourth image in the dataset?"
      ],
      "metadata": {
        "id": "nsGYO9ASbA_k"
      }
    },
    {
      "cell_type": "code",
      "source": [
        "num_components = 50\n",
        "X_transformed = X_meaned @ v[:num_components,:].T"
      ],
      "metadata": {
        "id": "yHZnruibXZdm"
      },
      "execution_count": null,
      "outputs": []
    },
    {
      "cell_type": "code",
      "source": [
        "print(X_transformed[3])"
      ],
      "metadata": {
        "colab": {
          "base_uri": "https://localhost:8080/"
        },
        "id": "6tqsJsF4eFDu",
        "outputId": "95742e98-d0fb-4300-fa69-4075ba85ccd2"
      },
      "execution_count": null,
      "outputs": [
        {
          "output_type": "stream",
          "name": "stdout",
          "text": [
            "[ 0.9314178   1.0077627  -1.5906525   0.27616745  0.197115    2.4422057\n",
            "  1.1770754   0.5719874  -1.8186102  -0.32588747 -2.9581072   0.45076966\n",
            "  1.5857271   2.7838712  -0.6485479  -0.35291642 -1.3016062  -1.8617456\n",
            "  2.4138107   1.6074783   1.0171655  -1.5304079  -0.891899    1.8119452\n",
            "  0.45341328 -1.0470015  -0.9808331   0.5842683  -0.17363712 -0.4611924\n",
            " -0.24523473 -0.23812538  1.1931627  -0.774081   -0.41575313  0.73469234\n",
            "  0.47560453 -0.5409514   0.43437424  0.2758677  -0.3867248  -0.631353\n",
            " -0.03142709 -0.06250559 -0.18105866 -0.0190046   0.8235791   0.2025305\n",
            "  0.39007086  0.70145184]\n"
          ]
        }
      ]
    },
    {
      "cell_type": "markdown",
      "source": [
        "Project the fourth face in the dataset onto the first 50 principal components."
      ],
      "metadata": {
        "id": "ckJErJfWbJZS"
      }
    },
    {
      "cell_type": "code",
      "source": [
        "# projecting and displaying the projected image\n",
        "_, h, w = lfw_people.images.shape\n",
        "reconst0 = X_transformed[3] @ v[: num_components, :]\n",
        "plt.imshow(reconst0.reshape(h, w), cmap = plt.cm.gray), plt.title('Image in new face space')"
      ],
      "metadata": {
        "colab": {
          "base_uri": "https://localhost:8080/",
          "height": 317
        },
        "id": "lRuFRBRomQmq",
        "outputId": "0a87a0d1-13a0-4dc5-db04-f9e105eaa566"
      },
      "execution_count": null,
      "outputs": [
        {
          "output_type": "execute_result",
          "data": {
            "text/plain": [
              "(<matplotlib.image.AxesImage at 0x7fba7ad565e0>,\n",
              " Text(0.5, 1.0, 'Image in new face space'))"
            ]
          },
          "metadata": {},
          "execution_count": 11
        },
        {
          "output_type": "display_data",
          "data": {
            "text/plain": [
              "<Figure size 432x288 with 1 Axes>"
            ],
            "image/png": "[encoded data removed]"
          },
          "metadata": {
            "needs_background": "light"
          }
        }
      ]
    },
    {
      "cell_type": "markdown",
      "source": [
        "Project the fourth face with first 50 principal components back into the original image\n",
        "space, and then display it."
      ],
      "metadata": {
        "id": "ezj7zpgqbO_b"
      }
    },
    {
      "cell_type": "code",
      "source": [
        "# projecting to original image space and displaying the image\n",
        "W5 = v.T[:, :num_components]\n",
        "X_prime = np.dot(X_transformed,W5.T)  + np.mean(X, axis=0)"
      ],
      "metadata": {
        "id": "1QkTdlWMiIfe"
      },
      "execution_count": null,
      "outputs": []
    },
    {
      "cell_type": "code",
      "source": [
        "print(X_prime.shape)"
      ],
      "metadata": {
        "colab": {
          "base_uri": "https://localhost:8080/"
        },
        "id": "jlXIILDLl3Di",
        "outputId": "3d2a1428-29ca-4055-f43b-53dfaba63c58"
      },
      "execution_count": null,
      "outputs": [
        {
          "output_type": "stream",
          "name": "stdout",
          "text": [
            "(1288, 2914)\n"
          ]
        }
      ]
    },
    {
      "cell_type": "code",
      "source": [
        "plt.imshow(X_prime[3].reshape(h, w), cmap = plt.cm.gray)"
      ],
      "metadata": {
        "colab": {
          "base_uri": "https://localhost:8080/",
          "height": 286
        },
        "id": "Onbguwu-nBxx",
        "outputId": "6b8113a4-6d5b-4e70-cd88-34071cb87452"
      },
      "execution_count": null,
      "outputs": [
        {
          "output_type": "execute_result",
          "data": {
            "text/plain": [
              "<matplotlib.image.AxesImage at 0x7fba7ade7640>"
            ]
          },
          "metadata": {},
          "execution_count": 15
        },
        {
          "output_type": "display_data",
          "data": {
            "text/plain": [
              "<Figure size 432x288 with 1 Axes>"
            ],
            "image/png": "[encoded data removed]"
          },
          "metadata": {
            "needs_background": "light"
          }
        }
      ]
    }
  ]
}